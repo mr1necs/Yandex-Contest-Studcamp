{
 "cells": [
  {
   "cell_type": "markdown",
   "metadata": {},
   "source": [
    "##### Задача A"
   ]
  },
  {
   "cell_type": "code",
   "execution_count": null,
   "metadata": {},
   "outputs": [],
   "source": [
    "def is_leap(year):\n",
    "    return (year // 4 - year // 100 + year // 400)\n",
    "\n",
    "def n_leap_years(first_year, last_year):\n",
    "    return is_leap(last_year) - is_leap(first_year - 1)"
   ]
  },
  {
   "cell_type": "code",
   "execution_count": null,
   "metadata": {},
   "outputs": [],
   "source": [
    "past = list(map(int, input().split(\".\")))\n",
    "now = list(map(int, input().split(\".\")))\n",
    "print(n_leap_years(now[2], past[2]))"
   ]
  },
  {
   "cell_type": "markdown",
   "metadata": {},
   "source": [
    "##### Задача B"
   ]
  },
  {
   "cell_type": "code",
   "execution_count": null,
   "metadata": {},
   "outputs": [],
   "source": [
    "def calculate_distance_on_rectangle(rectangle, point1, point2):\n",
    "    x_min, y_min, x_max, y_max = rectangle\n",
    "    \n",
    "    if (point1[0] == x_min or point1[0] == x_max):\n",
    "        if (point2[1] == y_min or point2[1] == y_max):\n",
    "            return abs(point1[0] - point2[0]) + abs(point1[1] - point2[1])\n",
    "        elif (point2[0] != point1[0]):\n",
    "            way1 = abs(point1[1] - max(y_min, y_max)) + abs(point2[1] - max(y_min, y_max))\n",
    "            way2 = abs(point1[1] - min(y_min, y_max)) + abs(point2[1] - min(y_min, y_max))\n",
    "            return min(way1, way2) + abs(x_min - x_max)\n",
    "        else:\n",
    "            return abs(point2[1] - point1[1])\n",
    "    else:\n",
    "        if (point2[0] == x_min or point2[0] == x_max):\n",
    "            return abs(point1[0] - point2[0]) + abs(point1[1] - point2[1])\n",
    "        elif (point2[1] != point1[1]):\n",
    "            way1 = abs(point1[0] - max(x_min, x_max)) + abs(point2[0] - max(x_min, x_max))\n",
    "            way2 = abs(point1[0] - min(x_min, x_max)) + abs(point2[0] - min(x_min, x_max))\n",
    "            return min(way1, way2) + abs(y_min - y_max)\n",
    "        else:\n",
    "            return abs(point2[0] - point1[0])"
   ]
  },
  {
   "cell_type": "code",
   "execution_count": null,
   "metadata": {},
   "outputs": [],
   "source": [
    "def rectangles_intersect(r1, r2):\n",
    "    x1_min, y1_min, x1_max, y1_max = r1\n",
    "    x2_min, y2_min, x2_max, y2_max = r2\n",
    "    return not (x1_max < x2_min or x1_min > x2_max or y1_max < y2_min or y1_min > y2_max)"
   ]
  },
  {
   "cell_type": "code",
   "execution_count": null,
   "metadata": {},
   "outputs": [],
   "source": [
    "def min_distance_between_rects(r1, r2):\n",
    "    x1_min, y1_min, x1_max, y1_max = r1\n",
    "    x2_min, y2_min, x2_max, y2_max = r2\n",
    "    dx = max(0, max(x1_min - x2_max, x2_min - x1_max))\n",
    "    dy = max(0, max(y1_min - y2_max, y2_min - y1_max))\n",
    "    return dx + dy"
   ]
  },
  {
   "cell_type": "code",
   "execution_count": null,
   "metadata": {},
   "outputs": [],
   "source": [
    "def distance_between_rectangles(rectangle1, rectangle2, point1, point2):\n",
    "    x1_min, y1_min, x1_max, y1_max = rectangle1\n",
    "    x2_min, y2_min, x2_max, y2_max = rectangle2\n",
    "\n",
    "    if rectangles_intersect(rectangle1, rectangle2):\n",
    "        # Find intersection area\n",
    "        x_overlap_min = max(x1_min, x2_min)\n",
    "        x_overlap_max = min(x1_max, x2_max)\n",
    "        y_overlap_min = max(y1_min, y2_min)\n",
    "        y_overlap_max = min(y1_max, y2_max)\n",
    "\n",
    "        # Intersection points\n",
    "        intersection_points = [\n",
    "            (x_overlap_min, y_overlap_min),\n",
    "            (x_overlap_min, y_overlap_max),\n",
    "            (x_overlap_max, y_overlap_min),\n",
    "            (x_overlap_max, y_overlap_max)\n",
    "        ]\n",
    "\n",
    "        min_distance = float('inf')\n",
    "        for p1 in intersection_points:\n",
    "            for p2 in intersection_points:\n",
    "                if p1 != p2:\n",
    "                    dist = (\n",
    "                        calculate_distance_on_rectangle(rectangle1, point1, p1) +\n",
    "                        calculate_distance_on_rectangle(rectangle2, point2, p2) +\n",
    "                        min_distance_between_rects(p1, p2)\n",
    "                    )\n",
    "                    min_distance = min(min_distance, dist)\n",
    "\n",
    "        return min_distance\n",
    "    else:\n",
    "        if (x1_min <= point1[0] <= x1_max and y1_min <= point1[1] <= y1_max) and \\\n",
    "           (x2_min <= point2[0] <= x2_max and y2_min <= point2[1] <= y2_max):\n",
    "            return calculate_distance_on_rectangle(rectangle1, point1, point2)\n",
    "        else:\n",
    "            return -1"
   ]
  },
  {
   "cell_type": "code",
   "execution_count": null,
   "metadata": {},
   "outputs": [],
   "source": [
    "k = int(input())\n",
    "point_P = tuple(map(int, input().split()))\n",
    "point_Q = tuple(map(int, input().split()))\n",
    "rectangle1 = tuple(map(int, input().split()))\n",
    "rectangle2 = tuple(map(int, input().split())) if k == 2 else None\n",
    "\n",
    "if rectangle2:\n",
    "    result = distance_between_rectangles(rectangle1, rectangle2, point_P, point_Q)\n",
    "else:\n",
    "    result = calculate_distance_on_rectangle(rectangle1, point_P, point_Q)\n",
    "print(result)"
   ]
  },
  {
   "cell_type": "markdown",
   "metadata": {},
   "source": [
    "##### Задача C"
   ]
  },
  {
   "cell_type": "code",
   "execution_count": null,
   "metadata": {},
   "outputs": [],
   "source": [
    "def minimize_deviation(a, k):\n",
    "    from itertools import combinations\n",
    "\n",
    "    unique_elements = list(set(a))\n",
    "\n",
    "    if len(unique_elements) <= k:\n",
    "        return list(a)\n",
    "\n",
    "    unique_elements.sort()\n",
    "\n",
    "    min_deviation = float('inf')\n",
    "    best_b = []\n",
    "\n",
    "    for combination in combinations(unique_elements, k):\n",
    "        # Важное изменение: используем текущую комбинацию для создания b\n",
    "        current_b = [min(combination, key=lambda x: abs(x - a_i)) for a_i in a]\n",
    "        # Вычисляем отклонение\n",
    "        deviation = sum((a_i - b_i) ** 2 for a_i, b_i in zip(a, current_b))\n",
    "\n",
    "        if deviation < min_deviation:\n",
    "            min_deviation = deviation\n",
    "            best_b = current_b\n",
    "\n",
    "    return best_b"
   ]
  },
  {
   "cell_type": "code",
   "execution_count": null,
   "metadata": {},
   "outputs": [],
   "source": [
    "t = int(input())\n",
    "for _ in range(t):\n",
    "    n, k = map(int, input().split())\n",
    "    a = list(map(int, input().split()))\n",
    "    result = minimize_deviation(a, k)\n",
    "    \n",
    "    ret = ' '.join(map(str, result))\n",
    "    \n",
    "    print(ret)"
   ]
  }
 ],
 "metadata": {
  "kernelspec": {
   "display_name": "Python 3",
   "language": "python",
   "name": "python3"
  },
  "language_info": {
   "codemirror_mode": {
    "name": "ipython",
    "version": 3
   },
   "file_extension": ".py",
   "mimetype": "text/x-python",
   "name": "python",
   "nbconvert_exporter": "python",
   "pygments_lexer": "ipython3",
   "version": "3.12.0"
  }
 },
 "nbformat": 4,
 "nbformat_minor": 2
}
